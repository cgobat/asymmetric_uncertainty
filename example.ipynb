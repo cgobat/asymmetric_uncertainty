{
 "cells": [
  {
   "cell_type": "markdown",
   "id": "delayed-anniversary",
   "metadata": {},
   "source": [
    "First, import the packages we will need."
   ]
  },
  {
   "cell_type": "code",
   "execution_count": 1,
   "id": "important-experiment",
   "metadata": {},
   "outputs": [],
   "source": [
    "from asymmetric_uncertainty import a_u\n",
    "import numpy as np, matplotlib.pyplot as plt\n",
    "from astropy import units as u\n",
    "import logging\n",
    "\n",
    "logging.basicConfig(level=logging.DEBUG)\n",
    "logging.getLogger(\"matplotlib\").setLevel(logging.WARNING)"
   ]
  },
  {
   "cell_type": "markdown",
   "id": "satisfactory-observation",
   "metadata": {},
   "source": [
    "We initialize our values by instantiating the `a_u` class:"
   ]
  },
  {
   "cell_type": "code",
   "execution_count": 2,
   "id": "limited-salad",
   "metadata": {},
   "outputs": [
    {
     "name": "stderr",
     "output_type": "stream",
     "text": [
      "DEBUG:Asymmetric Uncertainty:Initializing with nominal=3.0, pos_err=0.2, neg_err=0.3, unit=\n"
     ]
    },
    {
     "name": "stdout",
     "output_type": "stream",
     "text": [
      "True\n"
     ]
    },
    {
     "data": {
      "text/latex": [
       "$3.0_{-0.3}^{+0.2}$"
      ],
      "text/plain": [
       "<3.0 (+0.2, -0.3)>"
      ]
     },
     "execution_count": 2,
     "metadata": {},
     "output_type": "execute_result"
    }
   ],
   "source": [
    "A = a_u(3.,.2,.3)\n",
    "print(isinstance(A, u.Quantity))\n",
    "A"
   ]
  },
  {
   "cell_type": "code",
   "execution_count": 3,
   "id": "automotive-diary",
   "metadata": {},
   "outputs": [
    {
     "name": "stderr",
     "output_type": "stream",
     "text": [
      "DEBUG:Asymmetric Uncertainty:Initializing with nominal=2.5, pos_err=0.2, neg_err=0.2, unit=\n"
     ]
    },
    {
     "data": {
      "text/latex": [
       "$2.5 \\pm 0.2$"
      ],
      "text/plain": [
       "<2.5 ± 0.2>"
      ]
     },
     "execution_count": 3,
     "metadata": {},
     "output_type": "execute_result"
    }
   ],
   "source": [
    "B = a_u(2.5,0.2,0.2)\n",
    "B"
   ]
  },
  {
   "cell_type": "markdown",
   "id": "closed-fellow",
   "metadata": {},
   "source": [
    "We can now perform arithmetic operations, and the errors will propagate appropriately:"
   ]
  },
  {
   "cell_type": "code",
   "execution_count": 4,
   "id": "97eb9157",
   "metadata": {},
   "outputs": [
    {
     "name": "stderr",
     "output_type": "stream",
     "text": [
      "DEBUG:Asymmetric Uncertainty:Initializing with nominal=2.5, pos_err=0.2, neg_err=0.2, unit=\n",
      "DEBUG:Asymmetric Uncertainty:Initializing with nominal=5.5, pos_err=0.28284271247461906, neg_err=0.36055512754639896, unit=\n",
      "DEBUG:Asymmetric Uncertainty:added <3.0 (+0.2, -0.3)> + <2.5 ± 0.2> = <5.5 (+0.28284271247461906, -0.36055512754639896)>\n",
      "DEBUG:Asymmetric Uncertainty:Initializing with nominal=5.5, pos_err=0.28284271247461906, neg_err=0.36055512754639896, unit=\n"
     ]
    },
    {
     "data": {
      "text/latex": [
       "$5.5_{-0.360555}^{+0.282843}$"
      ],
      "text/plain": [
       "<5.5 (+0.28284271247461906, -0.36055512754639896)>"
      ]
     },
     "execution_count": 4,
     "metadata": {},
     "output_type": "execute_result"
    }
   ],
   "source": [
    "A+B"
   ]
  },
  {
   "cell_type": "code",
   "execution_count": 5,
   "id": "collect-andrews",
   "metadata": {},
   "outputs": [
    {
     "name": "stderr",
     "output_type": "stream",
     "text": [
      "DEBUG:Asymmetric Uncertainty:Initializing with nominal=0.5, pos_err=0.28284271247461906, neg_err=0.36055512754639896, unit=\n",
      "DEBUG:Asymmetric Uncertainty:subtracted <2.5 ± 0.2> from <3.0 (+0.2, -0.3)> = <0.5 (+0.28284271247461906, -0.36055512754639896)>\n",
      "DEBUG:Asymmetric Uncertainty:Initializing with nominal=0.5, pos_err=0.28284271247461906, neg_err=0.36055512754639896, unit=\n"
     ]
    },
    {
     "data": {
      "text/latex": [
       "$0.5_{-0.360555}^{+0.282843}$"
      ],
      "text/plain": [
       "<0.5 (+0.28284271247461906, -0.36055512754639896)>"
      ]
     },
     "execution_count": 5,
     "metadata": {},
     "output_type": "execute_result"
    }
   ],
   "source": [
    "A-B"
   ]
  },
  {
   "cell_type": "code",
   "execution_count": 6,
   "id": "dense-andrews",
   "metadata": {},
   "outputs": [
    {
     "name": "stderr",
     "output_type": "stream",
     "text": [
      "DEBUG:Asymmetric Uncertainty:Initializing with nominal=7.5, pos_err=0.7810249675906654, neg_err=0.9604686356149273, unit=\n"
     ]
    },
    {
     "data": {
      "text/latex": [
       "$7.5_{-0.960469}^{+0.781025}$"
      ],
      "text/plain": [
       "<7.5 (+0.7810249675906654, -0.9604686356149273)>"
      ]
     },
     "execution_count": 6,
     "metadata": {},
     "output_type": "execute_result"
    }
   ],
   "source": [
    "A*B"
   ]
  },
  {
   "cell_type": "code",
   "execution_count": 7,
   "id": "turned-hypothesis",
   "metadata": {},
   "outputs": [
    {
     "name": "stderr",
     "output_type": "stream",
     "text": [
      "DEBUG:Asymmetric Uncertainty:Initializing with nominal=1.2, pos_err=0.12496399481450646, neg_err=0.15367498169838836, unit=\n"
     ]
    },
    {
     "data": {
      "text/latex": [
       "$1.2_{-0.153675}^{+0.124964}$"
      ],
      "text/plain": [
       "<1.2 (+0.12496399481450646, -0.15367498169838836)>"
      ]
     },
     "execution_count": 7,
     "metadata": {},
     "output_type": "execute_result"
    }
   ],
   "source": [
    "A/B"
   ]
  },
  {
   "cell_type": "code",
   "execution_count": 8,
   "id": "military-knock",
   "metadata": {},
   "outputs": [
    {
     "name": "stderr",
     "output_type": "stream",
     "text": [
      "DEBUG:Asymmetric Uncertainty:Initializing with nominal=15.588457268119896, pos_err=4.299016620007221, neg_err=5.188356570157674, unit=\n",
      "DEBUG:Asymmetric Uncertainty:raised <3.0 (+0.2, -0.3)> to <2.5 ± 0.2> = <15.588457268119896 (+4.299016620007221, -5.188356570157674)>\n",
      "DEBUG:Asymmetric Uncertainty:Initializing with nominal=15.588457268119896, pos_err=4.299016620007221, neg_err=5.188356570157674, unit=\n"
     ]
    },
    {
     "data": {
      "text/latex": [
       "$15.588457_{-5.188357}^{+4.299017}$"
      ],
      "text/plain": [
       "<15.588457268119896 (+4.299016620007221, -5.188356570157674)>"
      ]
     },
     "execution_count": 8,
     "metadata": {},
     "output_type": "execute_result"
    }
   ],
   "source": [
    "A**B"
   ]
  },
  {
   "attachments": {},
   "cell_type": "markdown",
   "id": "sized-transport",
   "metadata": {},
   "source": [
    "They even work with `numpy` functions (i.e., `ufunc`s)!"
   ]
  },
  {
   "cell_type": "code",
   "execution_count": 9,
   "id": "1adc4bc7",
   "metadata": {},
   "outputs": [
    {
     "name": "stderr",
     "output_type": "stream",
     "text": [
      "DEBUG:Asymmetric Uncertainty:Initializing with nominal=0.1411200080598672, pos_err=-0.1979984993200891, neg_err=-0.2969977489801336, unit=\n"
     ]
    },
    {
     "data": {
      "text/latex": [
       "$0.14112_{-0.296998}^{+0.197998}$"
      ],
      "text/plain": [
       "<0.1411200080598672 (+0.1979984993200891, -0.2969977489801336)>"
      ]
     },
     "execution_count": 9,
     "metadata": {},
     "output_type": "execute_result"
    }
   ],
   "source": [
    "np.sin(A)"
   ]
  },
  {
   "cell_type": "code",
   "execution_count": 10,
   "id": "ae1702dc",
   "metadata": {},
   "outputs": [
    {
     "name": "stderr",
     "output_type": "stream",
     "text": [
      "DEBUG:Asymmetric Uncertainty:Initializing with nominal=2.718281828459045, pos_err=0, neg_err=0, unit=\n",
      "DEBUG:Asymmetric Uncertainty:Initializing with nominal=20.085536923187664, pos_err=4.017107384637533, neg_err=6.0256610769562995, unit=\n",
      "DEBUG:Asymmetric Uncertainty:raised <2.718281828459045 ± 0.0> to <3.0 (+0.2, -0.3)> = <20.085536923187664 (+4.017107384637533, -6.0256610769562995)>\n",
      "DEBUG:Asymmetric Uncertainty:Initializing with nominal=20.085536923187664, pos_err=4.017107384637533, neg_err=6.0256610769562995, unit=\n"
     ]
    },
    {
     "data": {
      "text/latex": [
       "$20.085537_{-6.025661}^{+4.017107}$"
      ],
      "text/plain": [
       "<20.085536923187664 (+4.017107384637533, -6.0256610769562995)>"
      ]
     },
     "execution_count": 10,
     "metadata": {},
     "output_type": "execute_result"
    }
   ],
   "source": [
    "np.exp(A)"
   ]
  },
  {
   "cell_type": "markdown",
   "id": "latter-sustainability",
   "metadata": {},
   "source": [
    "`a_u` objects have a `.pdf()` method that evaluates the corresponding probability density at a given input. We can use this to conveniently plot the PDFs of the numbers themselves."
   ]
  },
  {
   "cell_type": "code",
   "execution_count": 11,
   "id": "delayed-constitutional",
   "metadata": {},
   "outputs": [
    {
     "data": {
      "image/png": "[encoded data removed]",
      "text/plain": [
       "<Figure size 432x288 with 1 Axes>"
      ]
     },
     "metadata": {
      "needs_background": "light"
     },
     "output_type": "display_data"
    }
   ],
   "source": [
    "x = np.linspace(0,5,250)\n",
    "\n",
    "plt.plot(x,A.pdf(x),label=\"A\")\n",
    "plt.plot(x,B.pdf(x),label=\"B\")\n",
    "plt.legend()\n",
    "plt.xlabel(\"$x$\")\n",
    "plt.ylabel(\"Probability density [$P(x)$]\")\n",
    "plt.show()"
   ]
  },
  {
   "cell_type": "markdown",
   "id": "gorgeous-dance",
   "metadata": {},
   "source": [
    "Similarly, there is a `.cdf()` method as well."
   ]
  },
  {
   "cell_type": "code",
   "execution_count": 12,
   "id": "boxed-observer",
   "metadata": {},
   "outputs": [
    {
     "data": {
      "image/png": "[encoded data removed]",
      "text/plain": [
       "<Figure size 432x288 with 1 Axes>"
      ]
     },
     "metadata": {
      "needs_background": "light"
     },
     "output_type": "display_data"
    }
   ],
   "source": [
    "plt.plot(x,A.cdf(x),label=\"A\")\n",
    "plt.plot(x,B.cdf(x),label=\"B\")\n",
    "plt.legend()\n",
    "plt.xlabel(\"$x$\")\n",
    "plt.ylabel(\"Cumulative proability density [$\\int_0^x P(x') dx'$]\")\n",
    "plt.show()"
   ]
  },
  {
   "cell_type": "code",
   "execution_count": 13,
   "id": "83b14607",
   "metadata": {},
   "outputs": [
    {
     "name": "stderr",
     "output_type": "stream",
     "text": [
      "DEBUG:Asymmetric Uncertainty:Initializing with nominal=[3, 2.5], pos_err=[0.2, 0.2], neg_err=[0.3, 0.2], unit=\n",
      "DEBUG:Asymmetric Uncertainty:Initializing with nominal=[3.0, 2.5], pos_err=[0.2, 0.2], neg_err=[0.3, 0.2], unit=\n"
     ]
    },
    {
     "data": {
      "text/plain": [
       "array([ True,  True])"
      ]
     },
     "execution_count": 13,
     "metadata": {},
     "output_type": "execute_result"
    }
   ],
   "source": [
    "C1 = a_u([3, 2.5], [0.2, 0.2], [0.3,0.2])\n",
    "C2 = a_u([A, B])\n",
    "np.isclose(C1, C2)"
   ]
  },
  {
   "cell_type": "code",
   "execution_count": 14,
   "id": "09853e78",
   "metadata": {},
   "outputs": [
    {
     "name": "stderr",
     "output_type": "stream",
     "text": [
      "DEBUG:Asymmetric Uncertainty:Initializing with nominal=3.0, pos_err=0.2, neg_err=0.3, unit=\n",
      "DEBUG:Asymmetric Uncertainty:Initializing with nominal=2.5, pos_err=0.2, neg_err=0.2, unit=\n"
     ]
    },
    {
     "name": "stdout",
     "output_type": "stream",
     "text": [
      "<3.0 (+0.2, -0.3)>\n",
      "<2.5 ± 0.2>\n"
     ]
    }
   ],
   "source": [
    "for foo in C2:\n",
    "    print(foo)"
   ]
  },
  {
   "cell_type": "markdown",
   "id": "a2ba00a8",
   "metadata": {},
   "source": [
    "We can compare them logically. Of course, $3.0>2.5$:"
   ]
  },
  {
   "cell_type": "code",
   "execution_count": 15,
   "id": "capable-cassette",
   "metadata": {},
   "outputs": [
    {
     "data": {
      "text/plain": [
       "True"
      ]
     },
     "execution_count": 15,
     "metadata": {},
     "output_type": "execute_result"
    }
   ],
   "source": [
    "A>B"
   ]
  },
  {
   "cell_type": "markdown",
   "id": "32a2bee0",
   "metadata": {},
   "source": [
    "But we also have the ability to use `>>` and `<<` as \"significantly greater than\" and \"significantly less than\". The errors overlap (i.e. $3.0-0.4\\ngtr2.5+0.3$), so the following is false."
   ]
  },
  {
   "cell_type": "code",
   "execution_count": 16,
   "id": "34bbf6c2",
   "metadata": {},
   "outputs": [
    {
     "data": {
      "text/plain": [
       "False"
      ]
     },
     "execution_count": 16,
     "metadata": {},
     "output_type": "execute_result"
    }
   ],
   "source": [
    "A>>B"
   ]
  },
  {
   "cell_type": "code",
   "execution_count": null,
   "id": "8756a5fe",
   "metadata": {},
   "outputs": [],
   "source": []
  }
 ],
 "metadata": {
  "hide_input": false,
  "kernelspec": {
   "display_name": "Python 3",
   "language": "python",
   "name": "python3"
  },
  "language_info": {
   "codemirror_mode": {
    "name": "ipython",
    "version": 3
   },
   "file_extension": ".py",
   "mimetype": "text/x-python",
   "name": "python",
   "nbconvert_exporter": "python",
   "pygments_lexer": "ipython3",
   "version": "3.9.1"
  },
  "latex_envs": {
   "LaTeX_envs_menu_present": true,
   "autoclose": true,
   "autocomplete": true,
   "bibliofile": "biblio.bib",
   "cite_by": "apalike",
   "current_citInitial": 1,
   "eqLabelWithNumbers": true,
   "eqNumInitial": 1,
   "hotkeys": {
    "equation": "Ctrl-E",
    "itemize": "Ctrl-I"
   },
   "labels_anchors": false,
   "latex_user_defs": false,
   "report_style_numbering": false,
   "user_envs_cfg": false
  },
  "toc": {
   "base_numbering": 1,
   "nav_menu": {},
   "number_sections": true,
   "sideBar": true,
   "skip_h1_title": false,
   "title_cell": "Table of Contents",
   "title_sidebar": "Contents",
   "toc_cell": false,
   "toc_position": {},
   "toc_section_display": true,
   "toc_window_display": false
  },
  "varInspector": {
   "cols": {
    "lenName": 16,
    "lenType": 16,
    "lenVar": 40
   },
   "kernels_config": {
    "python": {
     "delete_cmd_postfix": "",
     "delete_cmd_prefix": "del ",
     "library": "var_list.py",
     "varRefreshCmd": "print(var_dic_list())"
    },
    "r": {
     "delete_cmd_postfix": ") ",
     "delete_cmd_prefix": "rm(",
     "library": "var_list.r",
     "varRefreshCmd": "cat(var_dic_list()) "
    }
   },
   "types_to_exclude": [
    "module",
    "function",
    "builtin_function_or_method",
    "instance",
    "_Feature"
   ],
   "window_display": false
  },
  "vscode": {
   "interpreter": {
    "hash": "4cf1f1ee07bf8e5fbf5789645a36c91beaae3d7f787004030fa101866f14cfb1"
   }
  }
 },
 "nbformat": 4,
 "nbformat_minor": 5
}
