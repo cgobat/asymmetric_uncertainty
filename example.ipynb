{
 "cells": [
  {
   "cell_type": "markdown",
   "id": "delayed-anniversary",
   "metadata": {},
   "source": [
    "First, import the packages we will need."
   ]
  },
  {
   "cell_type": "code",
   "execution_count": 1,
   "id": "important-experiment",
   "metadata": {},
   "outputs": [],
   "source": [
    "from asymmetric_uncertainty import a_u\n",
    "import numpy as np, matplotlib.pyplot as plt\n",
    "from astropy import units as u"
   ]
  },
  {
   "cell_type": "markdown",
   "id": "satisfactory-observation",
   "metadata": {},
   "source": [
    "We initialize our values by instantiating the `a_u` class:"
   ]
  },
  {
   "cell_type": "code",
   "execution_count": 2,
   "id": "limited-salad",
   "metadata": {},
   "outputs": [
    {
     "name": "stdout",
     "output_type": "stream",
     "text": [
      "True\n"
     ]
    },
    {
     "data": {
      "text/latex": [
       "$3.000000_{-0.400000}^{+0.200000}$"
      ],
      "text/plain": [
       "<a_u 3.>"
      ]
     },
     "execution_count": 2,
     "metadata": {},
     "output_type": "execute_result"
    }
   ],
   "source": [
    "A = a_u(3,0.2,0.4)\n",
    "print(isinstance(A,u.Quantity))\n",
    "A"
   ]
  },
  {
   "cell_type": "code",
   "execution_count": 3,
   "id": "automotive-diary",
   "metadata": {},
   "outputs": [
    {
     "data": {
      "text/latex": [
       "$2.500000_{-0.100000}^{+0.300000}$"
      ],
      "text/plain": [
       "<a_u 2.5>"
      ]
     },
     "execution_count": 3,
     "metadata": {},
     "output_type": "execute_result"
    }
   ],
   "source": [
    "B = a_u(2.5,0.3,0.1)\n",
    "B"
   ]
  },
  {
   "cell_type": "markdown",
   "id": "closed-fellow",
   "metadata": {},
   "source": [
    "We can now perform arithmetic operations, and the errors will propagate appropriately:"
   ]
  },
  {
   "cell_type": "code",
   "execution_count": 4,
   "id": "another-whole",
   "metadata": {},
   "outputs": [
    {
     "data": {
      "text/latex": [
       "$5.500000_{-0.412311}^{+0.360555}$"
      ],
      "text/plain": [
       "<a_u 5.5>"
      ]
     },
     "execution_count": 4,
     "metadata": {},
     "output_type": "execute_result"
    }
   ],
   "source": [
    "A+B"
   ]
  },
  {
   "cell_type": "code",
   "execution_count": 5,
   "id": "collect-andrews",
   "metadata": {},
   "outputs": [
    {
     "data": {
      "text/latex": [
       "$0.500000_{-0.500000}^{+0.223607}$"
      ],
      "text/plain": [
       "<a_u 0.5>"
      ]
     },
     "execution_count": 5,
     "metadata": {},
     "output_type": "execute_result"
    }
   ],
   "source": [
    "A-B"
   ]
  },
  {
   "cell_type": "code",
   "execution_count": 6,
   "id": "dense-andrews",
   "metadata": {},
   "outputs": [
    {
     "data": {
      "text/latex": [
       "$7.500000_{-1.044031}^{+1.029563}$"
      ],
      "text/plain": [
       "<a_u 7.5>"
      ]
     },
     "execution_count": 6,
     "metadata": {},
     "output_type": "execute_result"
    }
   ],
   "source": [
    "A*B"
   ]
  },
  {
   "cell_type": "code",
   "execution_count": 7,
   "id": "turned-hypothesis",
   "metadata": {},
   "outputs": [
    {
     "data": {
      "text/latex": [
       "$1.200000_{-0.215258}^{+0.093295}$"
      ],
      "text/plain": [
       "<a_u 1.2>"
      ]
     },
     "execution_count": 7,
     "metadata": {},
     "output_type": "execute_result"
    }
   ],
   "source": [
    "A/B"
   ]
  },
  {
   "cell_type": "code",
   "execution_count": 8,
   "id": "military-knock",
   "metadata": {},
   "outputs": [
    {
     "data": {
      "text/latex": [
       "$15.588457_{-5.471096}^{+5.757254}$"
      ],
      "text/plain": [
       "<a_u 15.58845727>"
      ]
     },
     "execution_count": 8,
     "metadata": {},
     "output_type": "execute_result"
    }
   ],
   "source": [
    "A**B"
   ]
  },
  {
   "cell_type": "markdown",
   "id": "sized-transport",
   "metadata": {},
   "source": [
    "They even work with `numpy`!"
   ]
  },
  {
   "cell_type": "code",
   "execution_count": 9,
   "id": "recreational-reliance",
   "metadata": {},
   "outputs": [
    {
     "data": {
      "text/plain": [
       "5.5"
      ]
     },
     "execution_count": 9,
     "metadata": {},
     "output_type": "execute_result"
    }
   ],
   "source": [
    "np.sum([A,B])"
   ]
  },
  {
   "cell_type": "markdown",
   "id": "latter-sustainability",
   "metadata": {},
   "source": [
    "`a_u` objects have a `.pdf()` method that evaluates the corresponding probability density at a given input. We can use this to conveniently plot the PDFs of the numbers themselves."
   ]
  },
  {
   "cell_type": "code",
   "execution_count": 10,
   "id": "delayed-constitutional",
   "metadata": {},
   "outputs": [
    {
     "data": {
      "image/png": "[encoded data removed]",
      "text/plain": [
       "<Figure size 432x288 with 1 Axes>"
      ]
     },
     "metadata": {
      "needs_background": "light"
     },
     "output_type": "display_data"
    }
   ],
   "source": [
    "x = np.linspace(0,5,250)\n",
    "\n",
    "plt.plot(x,A.pdf(x),label=\"A\")\n",
    "plt.plot(x,B.pdf(x),label=\"B\")\n",
    "plt.legend()\n",
    "plt.xlabel(\"$x$\")\n",
    "plt.ylabel(\"Probability density [$P(x)$]\")\n",
    "plt.show()"
   ]
  },
  {
   "cell_type": "markdown",
   "id": "gorgeous-dance",
   "metadata": {},
   "source": [
    "Similarly, there is a `.cdf()` method as well."
   ]
  },
  {
   "cell_type": "code",
   "execution_count": 11,
   "id": "boxed-observer",
   "metadata": {},
   "outputs": [
    {
     "data": {
      "image/png": "[encoded data removed]",
      "text/plain": [
       "<Figure size 432x288 with 1 Axes>"
      ]
     },
     "metadata": {
      "needs_background": "light"
     },
     "output_type": "display_data"
    }
   ],
   "source": [
    "plt.plot(x,A.cdf(x),label=\"A\")\n",
    "plt.plot(x,B.cdf(x),label=\"B\")\n",
    "plt.legend()\n",
    "plt.xlabel(\"$x$\")\n",
    "plt.ylabel(\"Cumulative proability density [$\\int_0^x P(x') dx'$]\")\n",
    "plt.show()"
   ]
  },
  {
   "cell_type": "markdown",
   "id": "a2ba00a8",
   "metadata": {},
   "source": [
    "We can compare them logically. Of course, $3.0>2.5$:"
   ]
  },
  {
   "cell_type": "code",
   "execution_count": 12,
   "id": "capable-cassette",
   "metadata": {},
   "outputs": [
    {
     "data": {
      "text/plain": [
       "True"
      ]
     },
     "execution_count": 12,
     "metadata": {},
     "output_type": "execute_result"
    }
   ],
   "source": [
    "A>B"
   ]
  },
  {
   "cell_type": "markdown",
   "id": "32a2bee0",
   "metadata": {},
   "source": [
    "But we also have the ability to use `>>` and `<<` as \"significantly greater than\" and \"significantly less than\". The errors overlap (i.e. $3.0-0.4\\ngtr2.5+0.3$), so the following is false."
   ]
  },
  {
   "cell_type": "code",
   "execution_count": 13,
   "id": "34bbf6c2",
   "metadata": {},
   "outputs": [
    {
     "data": {
      "text/plain": [
       "False"
      ]
     },
     "execution_count": 13,
     "metadata": {},
     "output_type": "execute_result"
    }
   ],
   "source": [
    "A>>B"
   ]
  },
  {
   "cell_type": "code",
   "execution_count": null,
   "id": "058c648d",
   "metadata": {},
   "outputs": [],
   "source": []
  }
 ],
 "metadata": {
  "hide_input": false,
  "kernelspec": {
   "display_name": "Python 3.9.12 ('base')",
   "language": "python",
   "name": "python3"
  },
  "language_info": {
   "codemirror_mode": {
    "name": "ipython",
    "version": 3
   },
   "file_extension": ".py",
   "mimetype": "text/x-python",
   "name": "python",
   "nbconvert_exporter": "python",
   "pygments_lexer": "ipython3",
   "version": "3.9.12"
  },
  "latex_envs": {
   "LaTeX_envs_menu_present": true,
   "autoclose": true,
   "autocomplete": true,
   "bibliofile": "biblio.bib",
   "cite_by": "apalike",
   "current_citInitial": 1,
   "eqLabelWithNumbers": true,
   "eqNumInitial": 1,
   "hotkeys": {
    "equation": "Ctrl-E",
    "itemize": "Ctrl-I"
   },
   "labels_anchors": false,
   "latex_user_defs": false,
   "report_style_numbering": false,
   "user_envs_cfg": false
  },
  "toc": {
   "base_numbering": 1,
   "nav_menu": {},
   "number_sections": true,
   "sideBar": true,
   "skip_h1_title": false,
   "title_cell": "Table of Contents",
   "title_sidebar": "Contents",
   "toc_cell": false,
   "toc_position": {},
   "toc_section_display": true,
   "toc_window_display": false
  },
  "varInspector": {
   "cols": {
    "lenName": 16,
    "lenType": 16,
    "lenVar": 40
   },
   "kernels_config": {
    "python": {
     "delete_cmd_postfix": "",
     "delete_cmd_prefix": "del ",
     "library": "var_list.py",
     "varRefreshCmd": "print(var_dic_list())"
    },
    "r": {
     "delete_cmd_postfix": ") ",
     "delete_cmd_prefix": "rm(",
     "library": "var_list.r",
     "varRefreshCmd": "cat(var_dic_list()) "
    }
   },
   "types_to_exclude": [
    "module",
    "function",
    "builtin_function_or_method",
    "instance",
    "_Feature"
   ],
   "window_display": false
  },
  "vscode": {
   "interpreter": {
    "hash": "0a0e2ba319dc5dc6e8959020e57414485a0ef4170c833fa04507c9e4bf0f7e28"
   }
  }
 },
 "nbformat": 4,
 "nbformat_minor": 5
}
