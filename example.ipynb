{
 "cells": [
  {
   "attachments": {},
   "cell_type": "markdown",
   "id": "da0a7aa0",
   "metadata": {},
   "source": [
    "# Asymmetric Uncertainty demo\n",
    "\n",
    "`asymmetric_uncertainty` is a Python package by [@cgobat](https://github.com/cgobat) capable of representing and propagating asymmetric errors on numeric quantities."
   ]
  },
  {
   "attachments": {},
   "cell_type": "markdown",
   "id": "delayed-anniversary",
   "metadata": {},
   "source": [
    "First, let's import the packages we will need."
   ]
  },
  {
   "cell_type": "code",
   "execution_count": 1,
   "id": "59ceb11a",
   "metadata": {},
   "outputs": [],
   "source": [
    "%load_ext autoreload\n",
    "%autoreload 2"
   ]
  },
  {
   "cell_type": "code",
   "execution_count": 2,
   "id": "important-experiment",
   "metadata": {},
   "outputs": [],
   "source": [
    "from asymmetric_uncertainty import a_u\n",
    "import numpy as np, matplotlib.pyplot as plt\n",
    "from astropy import units as u\n",
    "import logging\n",
    "\n",
    "logging.basicConfig(level=logging.INFO)\n",
    "logging.getLogger(\"matplotlib\").setLevel(logging.WARNING)"
   ]
  },
  {
   "attachments": {},
   "cell_type": "markdown",
   "id": "satisfactory-observation",
   "metadata": {},
   "source": [
    "## Initialization\n",
    "\n",
    "We initialize our values by instantiating the `a_u` class:"
   ]
  },
  {
   "cell_type": "code",
   "execution_count": 3,
   "id": "limited-salad",
   "metadata": {},
   "outputs": [
    {
     "name": "stdout",
     "output_type": "stream",
     "text": [
      "True\n"
     ]
    },
    {
     "data": {
      "text/latex": [
       "$3.0_{-0.3}^{+0.2}$"
      ],
      "text/plain": [
       "<3.0 (+0.2, -0.3)>"
      ]
     },
     "execution_count": 3,
     "metadata": {},
     "output_type": "execute_result"
    }
   ],
   "source": [
    "A = a_u(3., .2, .3)\n",
    "print(isinstance(A, u.Quantity))\n",
    "A"
   ]
  },
  {
   "cell_type": "code",
   "execution_count": 4,
   "id": "automotive-diary",
   "metadata": {},
   "outputs": [
    {
     "data": {
      "text/latex": [
       "$2.5 \\pm 0.2$"
      ],
      "text/plain": [
       "<2.5 ± 0.2>"
      ]
     },
     "execution_count": 4,
     "metadata": {},
     "output_type": "execute_result"
    }
   ],
   "source": [
    "B = a_u(2.5, 0.2, 0.2)\n",
    "B"
   ]
  },
  {
   "attachments": {},
   "cell_type": "markdown",
   "id": "closed-fellow",
   "metadata": {},
   "source": [
    "## Basic math\n",
    "\n",
    "We can now perform arithmetic operations, and the errors will propagate appropriately:"
   ]
  },
  {
   "cell_type": "code",
   "execution_count": 5,
   "id": "97eb9157",
   "metadata": {},
   "outputs": [
    {
     "data": {
      "text/latex": [
       "$5.5_{-0.360555}^{+0.282843}$"
      ],
      "text/plain": [
       "<5.5 (+0.28284271247461906, -0.36055512754639896)>"
      ]
     },
     "execution_count": 5,
     "metadata": {},
     "output_type": "execute_result"
    }
   ],
   "source": [
    "A+B"
   ]
  },
  {
   "cell_type": "code",
   "execution_count": 6,
   "id": "collect-andrews",
   "metadata": {},
   "outputs": [
    {
     "data": {
      "text/latex": [
       "$0.5_{-0.360555}^{+0.282843}$"
      ],
      "text/plain": [
       "<0.5 (+0.28284271247461906, -0.36055512754639896)>"
      ]
     },
     "execution_count": 6,
     "metadata": {},
     "output_type": "execute_result"
    }
   ],
   "source": [
    "A-B"
   ]
  },
  {
   "cell_type": "code",
   "execution_count": 7,
   "id": "dense-andrews",
   "metadata": {},
   "outputs": [
    {
     "data": {
      "text/latex": [
       "$7.5_{-0.960469}^{+0.781025}$"
      ],
      "text/plain": [
       "<7.5 (+0.7810249675906654, -0.9604686356149273)>"
      ]
     },
     "execution_count": 7,
     "metadata": {},
     "output_type": "execute_result"
    }
   ],
   "source": [
    "A*B"
   ]
  },
  {
   "cell_type": "code",
   "execution_count": 8,
   "id": "turned-hypothesis",
   "metadata": {},
   "outputs": [
    {
     "data": {
      "text/latex": [
       "$1.2_{-0.153675}^{+0.124964}$"
      ],
      "text/plain": [
       "<1.2 (+0.12496399481450646, -0.15367498169838836)>"
      ]
     },
     "execution_count": 8,
     "metadata": {},
     "output_type": "execute_result"
    }
   ],
   "source": [
    "A/B"
   ]
  },
  {
   "cell_type": "code",
   "execution_count": 9,
   "id": "military-knock",
   "metadata": {},
   "outputs": [
    {
     "data": {
      "text/latex": [
       "$15.588457_{-5.188357}^{+4.299017}$"
      ],
      "text/plain": [
       "<15.588457268119896 (+4.299016620007221, -5.188356570157674)>"
      ]
     },
     "execution_count": 9,
     "metadata": {},
     "output_type": "execute_result"
    }
   ],
   "source": [
    "A**B"
   ]
  },
  {
   "attachments": {},
   "cell_type": "markdown",
   "id": "sized-transport",
   "metadata": {},
   "source": [
    "They even work with `numpy` functions (i.e., `ufunc`s)!"
   ]
  },
  {
   "cell_type": "code",
   "execution_count": 10,
   "id": "1adc4bc7",
   "metadata": {},
   "outputs": [
    {
     "data": {
      "text/latex": [
       "$0.14112_{-0.296998}^{+0.197998}$"
      ],
      "text/plain": [
       "<0.1411200080598672 (+0.1979984993200891, -0.2969977489801336)>"
      ]
     },
     "execution_count": 10,
     "metadata": {},
     "output_type": "execute_result"
    }
   ],
   "source": [
    "np.sin(A)"
   ]
  },
  {
   "cell_type": "code",
   "execution_count": 11,
   "id": "ae1702dc",
   "metadata": {},
   "outputs": [
    {
     "data": {
      "text/latex": [
       "$20.085537_{-6.025661}^{+4.017107}$"
      ],
      "text/plain": [
       "<20.085536923187664 (+4.017107384637533, -6.0256610769562995)>"
      ]
     },
     "execution_count": 11,
     "metadata": {},
     "output_type": "execute_result"
    }
   ],
   "source": [
    "np.exp(A)"
   ]
  },
  {
   "attachments": {},
   "cell_type": "markdown",
   "id": "51ce0fb6",
   "metadata": {},
   "source": [
    "## Distribution functions and visualization"
   ]
  },
  {
   "cell_type": "markdown",
   "id": "latter-sustainability",
   "metadata": {},
   "source": [
    "`a_u` objects have a `.pdf()` method that evaluates the corresponding probability density at a given input. We can use this to conveniently plot the PDFs of the numbers themselves."
   ]
  },
  {
   "cell_type": "code",
   "execution_count": 12,
   "id": "delayed-constitutional",
   "metadata": {},
   "outputs": [
    {
     "data": {
      "image/png": "[encoded data removed]",
      "text/plain": [
       "<Figure size 640x480 with 1 Axes>"
      ]
     },
     "metadata": {},
     "output_type": "display_data"
    }
   ],
   "source": [
    "x = np.linspace(0,5,250)\n",
    "\n",
    "plt.plot(x,A.pdf(x),label=\"A\")\n",
    "plt.plot(x,B.pdf(x),label=\"B\")\n",
    "plt.legend()\n",
    "plt.xlabel(\"$x$\")\n",
    "plt.ylabel(\"Probability density [$P(x)$]\")\n",
    "plt.show()"
   ]
  },
  {
   "cell_type": "markdown",
   "id": "gorgeous-dance",
   "metadata": {},
   "source": [
    "Similarly, there is a `.cdf()` method as well."
   ]
  },
  {
   "cell_type": "code",
   "execution_count": 13,
   "id": "boxed-observer",
   "metadata": {},
   "outputs": [
    {
     "data": {
      "image/png": "[encoded data removed]",
      "text/plain": [
       "<Figure size 640x480 with 1 Axes>"
      ]
     },
     "metadata": {},
     "output_type": "display_data"
    }
   ],
   "source": [
    "plt.plot(x,A.cdf(x),label=\"A\")\n",
    "plt.plot(x,B.cdf(x),label=\"B\")\n",
    "plt.legend()\n",
    "plt.xlabel(\"$x$\")\n",
    "plt.ylabel(\"Cumulative proability density [$\\int_0^x P(x') dx'$]\")\n",
    "plt.show()"
   ]
  },
  {
   "attachments": {},
   "cell_type": "markdown",
   "id": "380979fb",
   "metadata": {},
   "source": [
    "### `a_u` objects as arrays\n",
    "\n",
    "Because `a_u` is a subclass of `astropy.units.Quantity`, which is itself a subclass of `numpy.ndarray`, instances of `a_u` are technically NumPy arrays. In many cases, this is transparent. When initialized using a single nominal value, positive error, and negative error, `a_u` behaves like a regular number (i.e., `float`, `int`, etc.) for the most part (as we saw in the [Basic math](#basic-math) section). However, they can also be used as iterables, if multiple values are passed. This can be done in one of two ways:\n",
    "\n",
    "1) passing separate arrays/iterables (of identical length/shape) to each of the parameters, interpreted to mean that the `i`-th element of `nominal` should have positive error `pos_err[i]` and negative error `neg_err[i]`\n",
    "2) passing an iterable/array of already-initialized `a_u` objects\n",
    "\n",
    "These two ways are both shown below (`C1` and `C2`, respectively).\n",
    "\n",
    "Either way, iterating over the result will yield (for a 1D array) single (scalar) `a_u` instances."
   ]
  },
  {
   "cell_type": "code",
   "execution_count": 14,
   "id": "83b14607",
   "metadata": {},
   "outputs": [
    {
     "data": {
      "text/plain": [
       "array([ True,  True])"
      ]
     },
     "execution_count": 14,
     "metadata": {},
     "output_type": "execute_result"
    }
   ],
   "source": [
    "C1 = a_u([3.0, 2.5], # nominal values\n",
    "         [0.2, 0.2], # positive errors\n",
    "         [0.3, 0.2]) # negative errors\n",
    "C2 = a_u([A, B])\n",
    "np.isclose(C1, C2)"
   ]
  },
  {
   "attachments": {},
   "cell_type": "markdown",
   "id": "bde67fce",
   "metadata": {},
   "source": [
    "`[True, True]` indicates that each element of `C1` is equivalent (to within floating-point precision) to the respective element of `C2`.\n",
    "\n",
    "However, we are not limited to 1-dimensional arrays. Below is an example of a 3&times;3 'matrix', where each element has an asymmetric uncertainty."
   ]
  },
  {
   "cell_type": "code",
   "execution_count": 15,
   "id": "be1fefad",
   "metadata": {},
   "outputs": [
    {
     "data": {
      "text/latex": [
       "$\\left[\\left[1.49816_{-0.431945}^{+0.708073} \\mathrm{m}, 3.802857_{-0.291229}^{+0.020584} \\mathrm{m}, 2.927976_{-0.611853}^{+0.96991} \\mathrm{m}\\right], \\left[2.394634_{-0.139494}^{+0.832443} \\mathrm{m}, 0.624075_{-0.292145}^{+0.212339} \\mathrm{m}, 0.623978_{-0.366362}^{+0.181825} \\mathrm{m}\\right], \\left[0.232334_{-0.45607}^{+0.183405} \\mathrm{m}, 3.464705_{-0.785176}^{+0.304242} \\mathrm{m}, 2.40446_{-0.199674}^{+0.524756} \\mathrm{m}\\right]\\right]$"
      ],
      "text/plain": [
       "[[<1.49816047538945 (+0.7080725777960455, -0.43194501864211576) m>, <3.8028572256396647 (+0.020584494295802447, -0.2912291401980419) m>, <2.9279757672456204 (+0.9699098521619943, -0.6118528947223795) m>], [<2.3946339367881464 (+0.8324426408004217, -0.13949386065204183) m>, <0.6240745617697461 (+0.21233911067827616, -0.29214464853521815) m>, <0.6239780813448106 (+0.18182496720710062, -0.3663618432936917) m>], [<0.23233444867279784 (+0.18340450985343382, -0.45606998421703593) m>, <3.4647045830997407 (+0.3042422429595377, -0.7851759613930136) m>, <2.404460046972835 (+0.5247564316322378, -0.19967378215835974) m>]]"
      ]
     },
     "execution_count": 15,
     "metadata": {},
     "output_type": "execute_result"
    }
   ],
   "source": [
    "np.random.seed(42)\n",
    "vals = 4*np.random.random(size=(3,3))\n",
    "pos = np.random.random(size=(3,3))\n",
    "neg = np.random.random(size=(3,3))\n",
    "arr = a_u(vals, pos, neg, u.m) # method 1) above\n",
    "arr"
   ]
  },
  {
   "cell_type": "code",
   "execution_count": 16,
   "id": "09853e78",
   "metadata": {},
   "outputs": [
    {
     "name": "stdout",
     "output_type": "stream",
     "text": [
      "<1.49816047538945 (+0.7080725777960455, -0.43194501864211576) m>\n",
      "<3.8028572256396647 (+0.020584494295802447, -0.2912291401980419) m>\n",
      "<2.9279757672456204 (+0.9699098521619943, -0.6118528947223795) m>\n",
      "<2.3946339367881464 (+0.8324426408004217, -0.13949386065204183) m>\n",
      "<0.6240745617697461 (+0.21233911067827616, -0.29214464853521815) m>\n",
      "<0.6239780813448106 (+0.18182496720710062, -0.3663618432936917) m>\n",
      "<0.23233444867279784 (+0.18340450985343382, -0.45606998421703593) m>\n",
      "<3.4647045830997407 (+0.3042422429595377, -0.7851759613930136) m>\n",
      "<2.404460046972835 (+0.5247564316322378, -0.19967378215835974) m>\n"
     ]
    }
   ],
   "source": [
    "for row in arr:\n",
    "    for elem in row:\n",
    "        print(elem)"
   ]
  },
  {
   "attachments": {},
   "cell_type": "markdown",
   "id": "5dc83a1f",
   "metadata": {},
   "source": [
    "## Overloaded operators"
   ]
  },
  {
   "attachments": {},
   "cell_type": "markdown",
   "id": "a2ba00a8",
   "metadata": {},
   "source": [
    "We can compare these objects logically. Of course, $3.0>2.5$:"
   ]
  },
  {
   "cell_type": "code",
   "execution_count": 17,
   "id": "capable-cassette",
   "metadata": {},
   "outputs": [
    {
     "data": {
      "text/plain": [
       "True"
      ]
     },
     "execution_count": 17,
     "metadata": {},
     "output_type": "execute_result"
    }
   ],
   "source": [
    "A>B"
   ]
  },
  {
   "cell_type": "markdown",
   "id": "32a2bee0",
   "metadata": {},
   "source": [
    "But we also have the ability to use `>>` and `<<` as \"significantly greater than\" and \"significantly less than\". The errors overlap (i.e. $3.0-0.4\\ngtr2.5+0.3$), so the following is false."
   ]
  },
  {
   "cell_type": "code",
   "execution_count": 18,
   "id": "34bbf6c2",
   "metadata": {},
   "outputs": [
    {
     "data": {
      "text/plain": [
       "False"
      ]
     },
     "execution_count": 18,
     "metadata": {},
     "output_type": "execute_result"
    }
   ],
   "source": [
    "A>>B"
   ]
  },
  {
   "cell_type": "code",
   "execution_count": 19,
   "id": "8ae48b8b",
   "metadata": {},
   "outputs": [
    {
     "data": {
      "text/plain": [
       "True"
      ]
     },
     "execution_count": 19,
     "metadata": {},
     "output_type": "execute_result"
    }
   ],
   "source": [
    "A>2.9"
   ]
  },
  {
   "cell_type": "code",
   "execution_count": 20,
   "id": "7c8ae633",
   "metadata": {},
   "outputs": [
    {
     "data": {
      "text/plain": [
       "False"
      ]
     },
     "execution_count": 20,
     "metadata": {},
     "output_type": "execute_result"
    }
   ],
   "source": [
    "A>>2.9"
   ]
  },
  {
   "cell_type": "code",
   "execution_count": null,
   "id": "5d187405",
   "metadata": {},
   "outputs": [],
   "source": []
  }
 ],
 "metadata": {
  "hide_input": false,
  "kernelspec": {
   "display_name": "gwu",
   "language": "python",
   "name": "python3"
  },
  "language_info": {
   "codemirror_mode": {
    "name": "ipython",
    "version": 3
   },
   "file_extension": ".py",
   "mimetype": "text/x-python",
   "name": "python",
   "nbconvert_exporter": "python",
   "pygments_lexer": "ipython3",
   "version": "3.10.8"
  },
  "latex_envs": {
   "LaTeX_envs_menu_present": true,
   "autoclose": true,
   "autocomplete": true,
   "bibliofile": "biblio.bib",
   "cite_by": "apalike",
   "current_citInitial": 1,
   "eqLabelWithNumbers": true,
   "eqNumInitial": 1,
   "hotkeys": {
    "equation": "Ctrl-E",
    "itemize": "Ctrl-I"
   },
   "labels_anchors": false,
   "latex_user_defs": false,
   "report_style_numbering": false,
   "user_envs_cfg": false
  },
  "toc": {
   "base_numbering": 1,
   "nav_menu": {},
   "number_sections": true,
   "sideBar": true,
   "skip_h1_title": false,
   "title_cell": "Table of Contents",
   "title_sidebar": "Contents",
   "toc_cell": false,
   "toc_position": {},
   "toc_section_display": true,
   "toc_window_display": false
  },
  "varInspector": {
   "cols": {
    "lenName": 16,
    "lenType": 16,
    "lenVar": 40
   },
   "kernels_config": {
    "python": {
     "delete_cmd_postfix": "",
     "delete_cmd_prefix": "del ",
     "library": "var_list.py",
     "varRefreshCmd": "print(var_dic_list())"
    },
    "r": {
     "delete_cmd_postfix": ") ",
     "delete_cmd_prefix": "rm(",
     "library": "var_list.r",
     "varRefreshCmd": "cat(var_dic_list()) "
    }
   },
   "types_to_exclude": [
    "module",
    "function",
    "builtin_function_or_method",
    "instance",
    "_Feature"
   ],
   "window_display": false
  },
  "vscode": {
   "interpreter": {
    "hash": "a18677ac38e22a1247fecb04f2392d277deefe42fb7f3a854d722b49d37d6ba0"
   }
  }
 },
 "nbformat": 4,
 "nbformat_minor": 5
}
